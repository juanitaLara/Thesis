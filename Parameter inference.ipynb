{
 "metadata": {
  "name": ""
 },
 "nbformat": 3,
 "nbformat_minor": 0,
 "worksheets": [
  {
   "cells": [
    {
     "cell_type": "code",
     "collapsed": false,
     "input": [
      "%pylab inline"
     ],
     "language": "python",
     "metadata": {},
     "outputs": [
      {
       "output_type": "stream",
       "stream": "stdout",
       "text": [
        "Populating the interactive namespace from numpy and matplotlib\n"
       ]
      }
     ],
     "prompt_number": 92
    },
    {
     "cell_type": "code",
     "collapsed": false,
     "input": [
      "h = 0.2\n",
      "n_points = int((30+h)/h)\n",
      "t = zeros(n_points)\n",
      "p = zeros(n_points)\n",
      "\n",
      "#Load experimental data\n",
      "\n",
      "exp_data = loadtxt(\"data.dat\")\n",
      "t_obs = exp_data[:,0]\n",
      "p_obs = exp_data[:,1]\n",
      "\n",
      "scatter(t_obs,p_obs)"
     ],
     "language": "python",
     "metadata": {},
     "outputs": [
      {
       "metadata": {},
       "output_type": "pyout",
       "prompt_number": 93,
       "text": [
        "<matplotlib.collections.PathCollection at 0x1093dc890>"
       ]
      },
      {
       "metadata": {},
       "output_type": "display_data",
       "png": "[encoded data removed]",
       "text": [
        "<matplotlib.figure.Figure at 0x109452410>"
       ]
      }
     ],
     "prompt_number": 93
    },
    {
     "cell_type": "code",
     "collapsed": false,
     "input": [
      "#Define the likelihood\n",
      "\n",
      "def likelihood(p_obs,p_sol):\n",
      "    chi_squared = sum((p_obs-p_sol)**2)\n",
      "    return exp(-chi_squared)"
     ],
     "language": "python",
     "metadata": {},
     "outputs": [],
     "prompt_number": 94
    },
    {
     "cell_type": "code",
     "collapsed": false,
     "input": [
      "#Define the ODE\n",
      "\n",
      "def func_prime(t,p,a,b,k1,k2):\n",
      "    return (a*(1-p))/(k1+1-p)-(b*p)/(k2+p)\n"
     ],
     "language": "python",
     "metadata": {},
     "outputs": [],
     "prompt_number": 95
    },
    {
     "cell_type": "code",
     "collapsed": false,
     "input": [
      "#Define a function that solves the ODE\n",
      "\n",
      "def RK(a,b,k1,k2):\n",
      "    \n",
      "    for i in range(1,n_points):\n",
      "    \n",
      "        K1 = func_prime(t[i-1],p[i-1],a,b,k1,k2) \n",
      "        \n",
      "        #first step\n",
      "        t1 = t[i-1] + (h/2.0)\n",
      "        p1 = p[i-1] + (h/2.0)*K1\n",
      "        K2 = func_prime(t1,p1,a,b,k1,k2)\n",
      "    \n",
      "        #second step\n",
      "        t2 = t[i-1] + (h/2.0)\n",
      "        p2 = p[i-1] + (h/2.0)*K2\n",
      "        K3 = func_prime(t2,p2,a,b,k1,k2)\n",
      "    \n",
      "        #third step\n",
      "        t3 = t[i-1] + h\n",
      "        p3 = p[i-1] + h*K3\n",
      "        K4 = func_prime(t3,p3,a,b,k1,k2)\n",
      "    \n",
      "        #fourth step\n",
      "        av_K = (1.0/6.0)*(K1 + 2.0*K2 + 2.0*K3 + K4)\n",
      "    \n",
      "        t[i] = t[i-1] + h\n",
      "        p[i] = p[i-1] + h*av_K\n",
      "        \n",
      "    "
     ],
     "language": "python",
     "metadata": {},
     "outputs": [],
     "prompt_number": 98
    },
    {
     "cell_type": "code",
     "collapsed": false,
     "input": [
      "RK(1,2,3,4)\n",
      "plot(t,p)\n",
      "type(RK)"
     ],
     "language": "python",
     "metadata": {},
     "outputs": [
      {
       "metadata": {},
       "output_type": "pyout",
       "prompt_number": 99,
       "text": [
        "function"
       ]
      },
      {
       "metadata": {},
       "output_type": "display_data",
       "png": "[encoded data removed]",
       "text": [
        "<matplotlib.figure.Figure at 0x1093fe090>"
       ]
      }
     ],
     "prompt_number": 99
    },
    {
     "cell_type": "code",
     "collapsed": false,
     "input": [
      "#empty lists to keep the steps\n",
      "\n",
      "a_walk = empty((0)) \n",
      "b_walk = empty((0)) \n",
      "k1_walk = empty((0)) \n",
      "k2_walk = empty((0)) \n",
      "\n",
      "a_walk = append(a_walk, random.random())\n",
      "b_walk = append(b_walk, random.random())\n",
      "k1_walk = append(k1_walk, random.random())\n",
      "k2_walk = append(k2_walk, random.random()) gith\n"
     ],
     "language": "python",
     "metadata": {},
     "outputs": [],
     "prompt_number": 78
    },
    {
     "cell_type": "code",
     "collapsed": false,
     "input": [
      "#iterations\n",
      "\n",
      "n_iterations = 20000\n",
      "\n",
      "for i in range(n_iterations):\n",
      "    \n",
      "    a_prime = np.random.normal(a_walk[i], 0.1) \n",
      "    b_prime = np.random.normal(b_walk[i], 0.1)  \n",
      "    k1_prime = np.random.normal(k1_walk[i], 0.1) \n",
      "    k2_prime = np.random.normal(k2_walk[i], 0.1) \n",
      "    \n",
      "    RK(a_walk[i],b_walk[i],k1_walk[i],k2_walk[i])\n",
      "    p_init = p\n",
      "    RK(a_prime,b_prime,k1_prime,k2_prime)\n",
      "    p_prime = p\n",
      "    \n",
      "    alpha = likelihood(p_obs,p_prime)/(p_obs,p_init)\n",
      "    \n",
      "    if(alpha>=1.0):\n",
      "        a_walk = append(a_walk,a_prime)\n",
      "        b_walk = append(b_walk,b_prime)\n",
      "        k1_walk = append(k1_walk,k1_prime)\n",
      "        k2_walk = append(k2_walk,k2_prime)\n",
      "        \n",
      "    else:\n",
      "        beta = random.random()\n",
      "        \n",
      "        if(beta<=alpha):\n",
      "            a_walk = append(a_walk,a_prime)\n",
      "            b_walk = append(a_walk,b_prime)\n",
      "            k1_walk = append(k1_walk,k1_prime)\n",
      "            k2_walk = append(k2_walk,k2_prime)\n",
      "            \n",
      "        else:\n",
      "            a_walk = append(a_walk,a_walk[i])\n",
      "            b_walk = append(b_walk,b_walk[i])\n",
      "            k1_walk = append(k1_walk,k1_walk[i])\n",
      "            k2_walk = append(k2_walk,k2_walk[i])"
     ],
     "language": "python",
     "metadata": {},
     "outputs": [
      {
       "ename": "ValueError",
       "evalue": "operands could not be broadcast together with shapes (19) (151) ",
       "output_type": "pyerr",
       "traceback": [
        "\u001b[0;31m---------------------------------------------------------------------------\u001b[0m\n\u001b[0;31mValueError\u001b[0m                                Traceback (most recent call last)",
        "\u001b[0;32m<ipython-input-82-c276af4432c2>\u001b[0m in \u001b[0;36m<module>\u001b[0;34m()\u001b[0m\n\u001b[1;32m     15\u001b[0m     \u001b[0mp_prime\u001b[0m \u001b[0;34m=\u001b[0m \u001b[0mp\u001b[0m\u001b[0;34m\u001b[0m\u001b[0m\n\u001b[1;32m     16\u001b[0m \u001b[0;34m\u001b[0m\u001b[0m\n\u001b[0;32m---> 17\u001b[0;31m     \u001b[0malpha\u001b[0m \u001b[0;34m=\u001b[0m \u001b[0mlikelihood\u001b[0m\u001b[0;34m(\u001b[0m\u001b[0mp_obs\u001b[0m\u001b[0;34m,\u001b[0m\u001b[0mp_prime\u001b[0m\u001b[0;34m)\u001b[0m\u001b[0;34m/\u001b[0m\u001b[0;34m(\u001b[0m\u001b[0mp_obs\u001b[0m\u001b[0;34m,\u001b[0m\u001b[0mp_init\u001b[0m\u001b[0;34m)\u001b[0m\u001b[0;34m\u001b[0m\u001b[0m\n\u001b[0m\u001b[1;32m     18\u001b[0m \u001b[0;34m\u001b[0m\u001b[0m\n\u001b[1;32m     19\u001b[0m     \u001b[0;32mif\u001b[0m\u001b[0;34m(\u001b[0m\u001b[0malpha\u001b[0m\u001b[0;34m>=\u001b[0m\u001b[0;36m1.0\u001b[0m\u001b[0;34m)\u001b[0m\u001b[0;34m:\u001b[0m\u001b[0;34m\u001b[0m\u001b[0m\n",
        "\u001b[0;32m<ipython-input-72-41efcda33ae6>\u001b[0m in \u001b[0;36mlikelihood\u001b[0;34m(p_obs, p_sol)\u001b[0m\n\u001b[1;32m      2\u001b[0m \u001b[0;34m\u001b[0m\u001b[0m\n\u001b[1;32m      3\u001b[0m \u001b[0;32mdef\u001b[0m \u001b[0mlikelihood\u001b[0m\u001b[0;34m(\u001b[0m\u001b[0mp_obs\u001b[0m\u001b[0;34m,\u001b[0m\u001b[0mp_sol\u001b[0m\u001b[0;34m)\u001b[0m\u001b[0;34m:\u001b[0m\u001b[0;34m\u001b[0m\u001b[0m\n\u001b[0;32m----> 4\u001b[0;31m     \u001b[0mchi_squared\u001b[0m \u001b[0;34m=\u001b[0m \u001b[0msum\u001b[0m\u001b[0;34m(\u001b[0m\u001b[0;34m(\u001b[0m\u001b[0mp_obs\u001b[0m\u001b[0;34m-\u001b[0m\u001b[0mp_sol\u001b[0m\u001b[0;34m)\u001b[0m\u001b[0;34m**\u001b[0m\u001b[0;36m2\u001b[0m\u001b[0;34m)\u001b[0m\u001b[0;34m\u001b[0m\u001b[0m\n\u001b[0m\u001b[1;32m      5\u001b[0m     \u001b[0;32mreturn\u001b[0m \u001b[0mexp\u001b[0m\u001b[0;34m(\u001b[0m\u001b[0;34m-\u001b[0m\u001b[0mchi_squared\u001b[0m\u001b[0;34m)\u001b[0m\u001b[0;34m\u001b[0m\u001b[0m\n",
        "\u001b[0;31mValueError\u001b[0m: operands could not be broadcast together with shapes (19) (151) "
       ]
      }
     ],
     "prompt_number": 82
    },
    {
     "cell_type": "code",
     "collapsed": false,
     "input": [
      "plot(t,p)"
     ],
     "language": "python",
     "metadata": {},
     "outputs": [
      {
       "metadata": {},
       "output_type": "pyout",
       "prompt_number": 83,
       "text": [
        "[<matplotlib.lines.Line2D at 0x10930b7d0>]"
       ]
      },
      {
       "metadata": {},
       "output_type": "display_data",
       "png": "[encoded data removed]",
       "text": [
        "<matplotlib.figure.Figure at 0x108fe27d0>"
       ]
      }
     ],
     "prompt_number": 83
    },
    {
     "cell_type": "code",
     "collapsed": false,
     "input": [],
     "language": "python",
     "metadata": {},
     "outputs": []
    }
   ],
   "metadata": {}
  }
 ]
}