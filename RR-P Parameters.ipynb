{
 "metadata": {
  "name": ""
 },
 "nbformat": 3,
 "nbformat_minor": 0,
 "worksheets": [
  {
   "cells": [
    {
     "cell_type": "code",
     "collapsed": false,
     "input": [
      "%pylab inline"
     ],
     "language": "python",
     "metadata": {},
     "outputs": [
      {
       "output_type": "stream",
       "stream": "stdout",
       "text": [
        "Populating the interactive namespace from numpy and matplotlib\n"
       ]
      }
     ],
     "prompt_number": 26
    },
    {
     "cell_type": "code",
     "collapsed": false,
     "input": [
      "h = 0.2\n",
      "n_points = int((30+h)/h)\n",
      "t = zeros(n_points)\n",
      "p = zeros(n_points)\n",
      "\n",
      "#Load experimental data\n",
      "\n",
      "exp_data = loadtxt(\"data.dat\")\n",
      "t_obs = exp_data[:,0]\n",
      "p_obs = exp_data[:,1]\n",
      "\n",
      "#condicion inicial\n",
      "t[0] = 0\n",
      "p[0] = 0\n",
      "\n",
      "scatter(t_obs,p_obs)"
     ],
     "language": "python",
     "metadata": {},
     "outputs": [
      {
       "metadata": {},
       "output_type": "pyout",
       "prompt_number": 34,
       "text": [
        "<matplotlib.collections.PathCollection at 0x10f37f750>"
       ]
      },
      {
       "metadata": {},
       "output_type": "display_data",
       "png": "[encoded data removed]",
       "text": [
        "<matplotlib.figure.Figure at 0x10f12f950>"
       ]
      }
     ],
     "prompt_number": 34
    },
    {
     "cell_type": "code",
     "collapsed": false,
     "input": [
      "#Define the likelihood. Taking into account that the size of the observed and solved arrays is different.\n",
      "\n",
      "def likelihood(p_obs,p_sol,t_obs,t_sol):\n",
      "    \n",
      "    n_obs = size(p_obs)\n",
      "    n_sol = size(p_sol)\n",
      "    \n",
      "    p_temp = zeros(n_obs)\n",
      "  \n",
      "    #Reduce the size of the array obtained by solving the ODE to that of the observed data.\n",
      "    \n",
      "    for i in range(n_obs):\n",
      "        delta = abs(n_sol-t_obs[i])\n",
      "        t_min = argmin(delta)\n",
      "        p_temp[i] = p_sol[t_min]\n",
      "    \n",
      "    chi_squared = sum((p_obs-p_temp)**2)\n",
      "    return chi_squared"
     ],
     "language": "python",
     "metadata": {},
     "outputs": [],
     "prompt_number": 35
    },
    {
     "cell_type": "code",
     "collapsed": false,
     "input": [
      "#Define the ODE\n",
      "\n",
      "def func_prime(t,p,a,b,s,k1,k2):\n",
      "    return (a*(s-p))/(k1+s-p)-(b*p)/(k2+p)\n"
     ],
     "language": "python",
     "metadata": {},
     "outputs": [],
     "prompt_number": 36
    },
    {
     "cell_type": "code",
     "collapsed": false,
     "input": [
      "#Define a function that solves the ODE\n",
      "\n",
      "def RK(a,b,s,k1,k2):\n",
      "    \n",
      "    for i in range(1,n_points):\n",
      "    \n",
      "        K1 = func_prime(t[i-1],p[i-1],a,b,s,k1,k2) \n",
      "        \n",
      "        #first step\n",
      "        t1 = t[i-1] + (h/2.0)\n",
      "        p1 = p[i-1] + (h/2.0)*K1\n",
      "        K2 = func_prime(t1,p1,a,b,s,k1,k2)\n",
      "    \n",
      "        #second step\n",
      "        t2 = t[i-1] + (h/2.0)\n",
      "        p2 = p[i-1] + (h/2.0)*K2\n",
      "        K3 = func_prime(t2,p2,a,b,s,k1,k2)\n",
      "    \n",
      "        #third step\n",
      "        t3 = t[i-1] + h\n",
      "        p3 = p[i-1] + h*K3\n",
      "        K4 = func_prime(t3,p3,a,b,s,k1,k2)\n",
      "    \n",
      "        #fourth step\n",
      "        av_K = (1.0/6.0)*(K1 + 2.0*K2 + 2.0*K3 + K4)\n",
      "    \n",
      "        t[i] = t[i-1] + h\n",
      "        p[i] = p[i-1] + h*av_K\n",
      "        \n",
      "        return p,t\n",
      "    "
     ],
     "language": "python",
     "metadata": {},
     "outputs": [],
     "prompt_number": 37
    },
    {
     "cell_type": "code",
     "collapsed": false,
     "input": [
      "RK(1,2,3,4,5)\n",
      "print p,t\n",
      "plot(t,p)\n",
      "type(RK)"
     ],
     "language": "python",
     "metadata": {},
     "outputs": [
      {
       "output_type": "stream",
       "stream": "stdout",
       "text": [
        "[ 0.          0.08174534  0.          0.          0.          0.          0.\n",
        "  0.          0.          0.          0.          0.          0.          0.\n",
        "  0.          0.          0.          0.          0.          0.          0.\n",
        "  0.          0.          0.          0.          0.          0.          0.\n",
        "  0.          0.          0.          0.          0.          0.          0.\n",
        "  0.          0.          0.          0.          0.          0.          0.\n",
        "  0.          0.          0.          0.          0.          0.          0.\n",
        "  0.          0.          0.          0.          0.          0.          0.\n",
        "  0.          0.          0.          0.          0.          0.          0.\n",
        "  0.          0.          0.          0.          0.          0.          0.\n",
        "  0.          0.          0.          0.          0.          0.          0.\n",
        "  0.          0.          0.          0.          0.          0.          0.\n",
        "  0.          0.          0.          0.          0.          0.          0.\n",
        "  0.          0.          0.          0.          0.          0.          0.\n",
        "  0.          0.          0.          0.          0.          0.          0.\n",
        "  0.          0.          0.          0.          0.          0.          0.\n",
        "  0.          0.          0.          0.          0.          0.          0.\n",
        "  0.          0.          0.          0.          0.          0.          0.\n",
        "  0.          0.          0.          0.          0.          0.          0.\n",
        "  0.          0.          0.          0.          0.          0.          0.\n",
        "  0.          0.          0.          0.          0.          0.          0.\n",
        "  0.          0.          0.          0.        ] [ 0.   0.2  0.   0.   0.   0.   0.   0.   0.   0.   0.   0.   0.   0.   0.\n",
        "  0.   0.   0.   0.   0.   0.   0.   0.   0.   0.   0.   0.   0.   0.   0.\n",
        "  0.   0.   0.   0.   0.   0.   0.   0.   0.   0.   0.   0.   0.   0.   0.\n",
        "  0.   0.   0.   0.   0.   0.   0.   0.   0.   0.   0.   0.   0.   0.   0.\n",
        "  0.   0.   0.   0.   0.   0.   0.   0.   0.   0.   0.   0.   0.   0.   0.\n",
        "  0.   0.   0.   0.   0.   0.   0.   0.   0.   0.   0.   0.   0.   0.   0.\n",
        "  0.   0.   0.   0.   0.   0.   0.   0.   0.   0.   0.   0.   0.   0.   0.\n",
        "  0.   0.   0.   0.   0.   0.   0.   0.   0.   0.   0.   0.   0.   0.   0.\n",
        "  0.   0.   0.   0.   0.   0.   0.   0.   0.   0.   0.   0.   0.   0.   0.\n",
        "  0.   0.   0.   0.   0.   0.   0.   0.   0.   0.   0.   0.   0.   0.   0.\n",
        "  0. ]\n"
       ]
      },
      {
       "metadata": {},
       "output_type": "pyout",
       "prompt_number": 38,
       "text": [
        "function"
       ]
      },
      {
       "metadata": {},
       "output_type": "display_data",
       "png": "[encoded data removed]",
       "text": [
        "<matplotlib.figure.Figure at 0x10f2feb10>"
       ]
      }
     ],
     "prompt_number": 38
    },
    {
     "cell_type": "code",
     "collapsed": false,
     "input": [
      "#empty lists to keep the steps for the parameters to be found\n",
      "\n",
      "a_walk = empty((0)) \n",
      "b_walk = empty((0)) \n",
      "s_walk = empty((0))\n",
      "k1_walk = empty((0)) \n",
      "k2_walk = empty((0)) \n",
      "\n",
      "a_walk = append(a_walk, random.random())\n",
      "b_walk = append(b_walk, random.random())\n",
      "s_walk = append(s_walk, random.random())\n",
      "k1_walk = append(k1_walk, random.random())\n",
      "k2_walk = append(k2_walk, random.random()) \n",
      "\n",
      "\n"
     ],
     "language": "python",
     "metadata": {},
     "outputs": [],
     "prompt_number": 39
    },
    {
     "cell_type": "code",
     "collapsed": false,
     "input": [
      "#Metropolis_Hastings Algorithm\n",
      "\n",
      "n_iterations = 20000\n",
      "\n",
      "for i in range(n_iterations):\n",
      "    \n",
      "    a_prime = np.random.normal(a_walk[i], 0.1) \n",
      "    b_prime = np.random.normal(b_walk[i], 0.1) \n",
      "    s_prime = np.random.normal(s_walk[i], 0.1) \n",
      "    k1_prime = np.random.normal(k1_walk[i], 0.1) \n",
      "    k2_prime = np.random.normal(k2_walk[i], 0.1) \n",
      "    \n",
      "    \n",
      "    p_th, t_th = RK(a_walk[i],b_walk[i],s_walk[i],k1_walk[i],k2_walk[i])\n",
      "    \n",
      "    p_th_prime, t_th_prime = RK(a_prime,b_prime,s_prime,k1_prime,k2_prime)\n",
      "\n",
      "    \n",
      "    alpha = likelihood(p_obs,p_th_prime,t_obs,t_th_prime)/(p_obs,p_th,t_obs,t_th)\n",
      "    \n",
      "    if(alpha>=1.0):\n",
      "        a_walk = append(a_walk,a_prime)\n",
      "        b_walk = append(b_walk,b_prime)\n",
      "        s_walk = append(s_walk,s_prime)\n",
      "        k1_walk = append(k1_walk,k1_prime)\n",
      "        k2_walk = append(k2_walk,k2_prime)\n",
      "        \n",
      "    else:\n",
      "        beta = random.random()\n",
      "        \n",
      "        if(beta<=alpha):\n",
      "            a_walk = append(a_walk,a_prime)\n",
      "            b_walk = append(a_walk,b_prime)\n",
      "            s_walk = append(s_walk,s_prime)\n",
      "            k1_walk = append(k1_walk,k1_prime)\n",
      "            k2_walk = append(k2_walk,k2_prime)\n",
      "            \n",
      "        else:\n",
      "            a_walk = append(a_walk,a_walk[i])\n",
      "            b_walk = append(b_walk,b_walk[i])\n",
      "            s_walk = append(s_walk,s_walk[i])\n",
      "            k1_walk = append(k1_walk,k1_walk[i])\n",
      "            k2_walk = append(k2_walk,k2_walk[i])"
     ],
     "language": "python",
     "metadata": {},
     "outputs": [
      {
       "ename": "ValueError",
       "evalue": "The truth value of an array with more than one element is ambiguous. Use a.any() or a.all()",
       "output_type": "pyerr",
       "traceback": [
        "\u001b[0;31m---------------------------------------------------------------------------\u001b[0m\n\u001b[0;31mValueError\u001b[0m                                Traceback (most recent call last)",
        "\u001b[0;32m<ipython-input-40-0fd15526b2d8>\u001b[0m in \u001b[0;36m<module>\u001b[0;34m()\u001b[0m\n\u001b[1;32m     19\u001b[0m     \u001b[0malpha\u001b[0m \u001b[0;34m=\u001b[0m \u001b[0mlikelihood\u001b[0m\u001b[0;34m(\u001b[0m\u001b[0mp_obs\u001b[0m\u001b[0;34m,\u001b[0m\u001b[0mp_th_prime\u001b[0m\u001b[0;34m,\u001b[0m\u001b[0mt_obs\u001b[0m\u001b[0;34m,\u001b[0m\u001b[0mt_th_prime\u001b[0m\u001b[0;34m)\u001b[0m\u001b[0;34m/\u001b[0m\u001b[0;34m(\u001b[0m\u001b[0mp_obs\u001b[0m\u001b[0;34m,\u001b[0m\u001b[0mp_th\u001b[0m\u001b[0;34m,\u001b[0m\u001b[0mt_obs\u001b[0m\u001b[0;34m,\u001b[0m\u001b[0mt_th\u001b[0m\u001b[0;34m)\u001b[0m\u001b[0;34m\u001b[0m\u001b[0m\n\u001b[1;32m     20\u001b[0m \u001b[0;34m\u001b[0m\u001b[0m\n\u001b[0;32m---> 21\u001b[0;31m     \u001b[0;32mif\u001b[0m\u001b[0;34m(\u001b[0m\u001b[0malpha\u001b[0m\u001b[0;34m>=\u001b[0m\u001b[0;36m1.0\u001b[0m\u001b[0;34m)\u001b[0m\u001b[0;34m:\u001b[0m\u001b[0;34m\u001b[0m\u001b[0m\n\u001b[0m\u001b[1;32m     22\u001b[0m         \u001b[0ma_walk\u001b[0m \u001b[0;34m=\u001b[0m \u001b[0mappend\u001b[0m\u001b[0;34m(\u001b[0m\u001b[0ma_walk\u001b[0m\u001b[0;34m,\u001b[0m\u001b[0ma_prime\u001b[0m\u001b[0;34m)\u001b[0m\u001b[0;34m\u001b[0m\u001b[0m\n\u001b[1;32m     23\u001b[0m         \u001b[0mb_walk\u001b[0m \u001b[0;34m=\u001b[0m \u001b[0mappend\u001b[0m\u001b[0;34m(\u001b[0m\u001b[0mb_walk\u001b[0m\u001b[0;34m,\u001b[0m\u001b[0mb_prime\u001b[0m\u001b[0;34m)\u001b[0m\u001b[0;34m\u001b[0m\u001b[0m\n",
        "\u001b[0;31mValueError\u001b[0m: The truth value of an array with more than one element is ambiguous. Use a.any() or a.all()"
       ]
      }
     ],
     "prompt_number": 40
    },
    {
     "cell_type": "code",
     "collapsed": false,
     "input": [
      "plot(t,p)"
     ],
     "language": "python",
     "metadata": {},
     "outputs": [
      {
       "metadata": {},
       "output_type": "pyout",
       "prompt_number": 83,
       "text": [
        "[<matplotlib.lines.Line2D at 0x10930b7d0>]"
       ]
      },
      {
       "metadata": {},
       "output_type": "display_data",
       "png": "[encoded data removed]",
       "text": [
        "<matplotlib.figure.Figure at 0x108fe27d0>"
       ]
      }
     ],
     "prompt_number": 83
    },
    {
     "cell_type": "code",
     "collapsed": false,
     "input": [],
     "language": "python",
     "metadata": {},
     "outputs": []
    }
   ],
   "metadata": {}
  }
 ]
}