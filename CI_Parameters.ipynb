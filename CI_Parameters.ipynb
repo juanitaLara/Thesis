{
 "metadata": {
  "name": ""
 },
 "nbformat": 3,
 "nbformat_minor": 0,
 "worksheets": [
  {
   "cells": [
    {
     "cell_type": "code",
     "collapsed": false,
     "input": [
      "%pylab inline"
     ],
     "language": "python",
     "metadata": {},
     "outputs": [
      {
       "output_type": "stream",
       "stream": "stdout",
       "text": [
        "Populating the interactive namespace from numpy and matplotlib\n"
       ]
      }
     ],
     "prompt_number": 1
    },
    {
     "cell_type": "code",
     "collapsed": false,
     "input": [
      "h = 0.2\n",
      "n_points = int((1250+h)/h)\n",
      "dr = zeros(n_points)\n",
      "c = zeros(n_points)\n",
      "\n",
      "#Load experimental data\n",
      "\n",
      "exp_data = loadtxt(\"data_CI.dat\")\n",
      "dr_obs = exp_data[:,0]\n",
      "c_obs = exp_data[:,1]\n",
      "\n",
      "#condicion inicial\n",
      "c[0] = 0\n",
      "dr[0] = 0\n",
      "\n",
      "scatter(dr_obs,c_obs)"
     ],
     "language": "python",
     "metadata": {},
     "outputs": [
      {
       "metadata": {},
       "output_type": "pyout",
       "prompt_number": 2,
       "text": [
        "<matplotlib.collections.PathCollection at 0x110465190>"
       ]
      },
      {
       "metadata": {},
       "output_type": "display_data",
       "png": "[encoded data removed]",
       "text": [
        "<matplotlib.figure.Figure at 0x10f4102d0>"
       ]
      }
     ],
     "prompt_number": 2
    },
    {
     "cell_type": "code",
     "collapsed": false,
     "input": [
      "#Define the likelihood. \n",
      "\n",
      "def likelihood(c_obs,c_th):\n",
      "    \n",
      "    chi_squared = sum((c_obs-c_th)**2)\n",
      "    return exp(-chi_squared)"
     ],
     "language": "python",
     "metadata": {},
     "outputs": [],
     "prompt_number": 16
    },
    {
     "cell_type": "code",
     "collapsed": false,
     "input": [
      "#Define the function for CI\n",
      "\n",
      "def CI(dr_obs,k1):\n",
      "    return (k1*dr_obs)/(1+k1*dr_obs)"
     ],
     "language": "python",
     "metadata": {},
     "outputs": [],
     "prompt_number": 4
    },
    {
     "cell_type": "code",
     "collapsed": false,
     "input": [
      "#empty list to keep the steps\n",
      "\n",
      "k1_walk = empty((0))\n",
      "\n",
      "k1_walk = append(k1_walk, random.random())\n",
      "\n",
      "print k1_walk"
     ],
     "language": "python",
     "metadata": {},
     "outputs": [
      {
       "output_type": "stream",
       "stream": "stdout",
       "text": [
        "[ 2.44366863]\n"
       ]
      }
     ],
     "prompt_number": 10
    },
    {
     "cell_type": "code",
     "collapsed": false,
     "input": [
      "#Metropolis-Hastings Algorithm \n",
      "\n",
      "n_iterations = 20000\n",
      "\n",
      "for i in range(n_iterations):\n",
      "    \n",
      "    k1_prime = np.random.normal(k1_walk[i], 0.1) \n",
      "    \n",
      "    c_th = CI(dr_obs,k1_walk[i])\n",
      "    c_th_prime = CI(dr_obs,k1_prime)\n",
      "    \n",
      "    alpha = likelihood(c_obs,c_th_prime)/likelihood(c_obs,c_th)\n",
      "    \n",
      "    if(alpha>=0):\n",
      "        k1_walk = append(k1_walk,k1_prime)\n",
      "    \n",
      "    else:\n",
      "        beta = random.random()\n",
      "        if(beta<=alpha):\n",
      "            k1_walk = append(k1_walk,k1_prime)\n",
      "        else:\n",
      "            k1_walk = append(k1_walk,k1_walk[1])"
     ],
     "language": "python",
     "metadata": {},
     "outputs": [],
     "prompt_number": 17
    },
    {
     "cell_type": "code",
     "collapsed": false,
     "input": [
      "plot(dr,c)"
     ],
     "language": "python",
     "metadata": {},
     "outputs": [
      {
       "metadata": {},
       "output_type": "pyout",
       "prompt_number": 18,
       "text": [
        "[<matplotlib.lines.Line2D at 0x110a8d8d0>]"
       ]
      },
      {
       "metadata": {},
       "output_type": "display_data",
       "png": "[encoded data removed]",
       "text": [
        "<matplotlib.figure.Figure at 0x11059ea10>"
       ]
      }
     ],
     "prompt_number": 18
    },
    {
     "cell_type": "code",
     "collapsed": false,
     "input": [],
     "language": "python",
     "metadata": {},
     "outputs": []
    }
   ],
   "metadata": {}
  }
 ]
}